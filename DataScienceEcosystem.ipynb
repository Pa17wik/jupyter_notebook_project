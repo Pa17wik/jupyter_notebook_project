{
 "cells": [
  {
   "cell_type": "markdown",
   "id": "b20a5579",
   "metadata": {},
   "source": [
    "# Data science Tools and Ecosystem"
   ]
  },
  {
   "cell_type": "markdown",
   "id": "5da50b7b",
   "metadata": {},
   "source": [
    "## In this notebook, Data science tools and Ecosystem are summarised"
   ]
  },
  {
   "cell_type": "markdown",
   "id": "f851a8e9",
   "metadata": {},
   "source": [
    "**Objectives:**\n",
    "\n",
    "* List popular languages used by data scientists\n",
    "* List commonly used data science libraries\n",
    "* List evaluating methods\n"
   ]
  },
  {
   "cell_type": "markdown",
   "id": "0a3371a1",
   "metadata": {},
   "source": [
    "## Some of the languages used by Data scientists are:\n",
    "\n",
    "1. Python\n",
    "2. SQL\n",
    "3. R\n",
    "4. Swift\n",
    "5. Go\n",
    "6. Matlab\n",
    "7. Julia\n",
    "8. Scala"
   ]
  },
  {
   "cell_type": "markdown",
   "id": "9dfd5ff7",
   "metadata": {},
   "source": [
    "## Some of the commonly used Data science libraries are:\n",
    "\n",
    "1. Pandas\n",
    "2. Tensor flow\n",
    "3. Scikit-learn\n",
    "4. Numpy\n",
    "5. Keras\n",
    "6. SciPy\n",
    "7. PyTorch\n",
    "8. Matplotlib\n",
    "9. Seaborn\n",
    "10. Plotly"
   ]
  },
  {
   "cell_type": "markdown",
   "id": "20734f53",
   "metadata": {},
   "source": [
    "# Table\n"
   ]
  },
  {
   "cell_type": "markdown",
   "id": "bbe36300",
   "metadata": {},
   "source": [
    "|Data Science Tools|\n",
    "|------------------|\n",
    "|Rstudio|\n",
    "|Apache Spark|\n",
    "|Apache Hadoop|\n"
   ]
  },
  {
   "cell_type": "markdown",
   "id": "861218de",
   "metadata": {},
   "source": [
    "### Below are a few examples of evaluating arithmetic expressions in python\n"
   ]
  },
  {
   "cell_type": "code",
   "execution_count": 6,
   "id": "bedd2d41",
   "metadata": {},
   "outputs": [
    {
     "name": "stdout",
     "output_type": "stream",
     "text": [
      "Result: 17\n"
     ]
    }
   ],
   "source": [
    "#This is a simple arithmetic expression to multiply then add numbers\n",
    "\n",
    "result = (3 * 4) + 5\n",
    "print(\"Result:\", result)\n"
   ]
  },
  {
   "cell_type": "code",
   "execution_count": 7,
   "id": "bedf1f0a",
   "metadata": {},
   "outputs": [
    {
     "name": "stdout",
     "output_type": "stream",
     "text": [
      "200 minutes is equal to 3.3333333333333335 hours.\n"
     ]
    }
   ],
   "source": [
    "#This will convert 200 minutes to hours by dividing by 60\n",
    "\n",
    "# Input: Number of minutes\n",
    "minutes = 200\n",
    "\n",
    "# Conversion from minutes to hours\n",
    "hours = minutes / 60\n",
    "\n",
    "print(f\"{minutes} minutes is equal to {hours} hours.\")\n"
   ]
  },
  {
   "cell_type": "markdown",
   "id": "af13016c",
   "metadata": {},
   "source": [
    "## Author\n",
    "   Pavan Sathwik cvhn"
   ]
  }
 ],
 "metadata": {
  "kernelspec": {
   "display_name": "Python 3 (ipykernel)",
   "language": "python",
   "name": "python3"
  },
  "language_info": {
   "codemirror_mode": {
    "name": "ipython",
    "version": 3
   },
   "file_extension": ".py",
   "mimetype": "text/x-python",
   "name": "python",
   "nbconvert_exporter": "python",
   "pygments_lexer": "ipython3",
   "version": "3.9.13"
  }
 },
 "nbformat": 4,
 "nbformat_minor": 5
}
